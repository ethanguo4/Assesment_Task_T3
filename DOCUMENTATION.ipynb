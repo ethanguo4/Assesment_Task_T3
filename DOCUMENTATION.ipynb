{
 "cells": [
  {
   "attachments": {},
   "cell_type": "markdown",
   "metadata": {},
   "source": [
    "# *Identifying and Defining*\n",
    "**DATA**: The dataset that I have found is one of how many sales games in general have made, having columns of what genre the game is, when it released and how much copies it sold for. \n",
    "\n",
    "**GOAL**: The goal is to be able to pinpoint the most popular games in certain genre's, and possibly the sales that it made. \n",
    "\n",
    "**SOURCE**: The source of dataset is https://www.kaggle.com/datasets/asaniczka/video-game-sales-2024. \n",
    "\n",
    "**ACCESS**: This dataset is publically available on kaggle.com, and is free to download.\n",
    "\n",
    "**ACCESS METHOD**: .csv\n"
   ]
  },
  {
   "attachments": {},
   "cell_type": "markdown",
   "metadata": {},
   "source": [
    "# *Functional Requirements*\n",
    "\n",
    "*Data Loading*: Consider aspects such as ability to load certain file types and handling errors in file loading (e.g. incorrect format, missing files).\n",
    "\n",
    "*Data Cleaning*: Does the system need to handle missing values or allow for filtering, sorting and grouping of data?\n",
    "\n",
    "*Data Analysis*: What kind of statistical analysis does the system need to allow for (e.g. mean, median, mode)?\n",
    "\n",
    "*Data Visualisation*: How will the data need to be visualised (e.g. Pandas dataframes / Matplotlib chart types)?\n",
    "\n",
    "*Data Reporting*: What output should the system include, and do we need to store the final dataset somewhere (e.g. .csv or .txt file)?\n",
    "\n",
    "\n",
    "**Function Name - Data Loading**\n",
    "Description: The program should be able load differnet types of files, and have them securely stored.\n",
    "Input: User will type in a specific command, or number or certain data to show.\n",
    "Output: The program should show a visualised version of data.\n",
    "\n",
    "**Function Name - Data Clenaing**\n",
    "Description: Process of fixing, and removing irrelevant, incorrect or corrupted data within a dataset.\n",
    "Input: User can use specific commands to filter out data to get the parts that they want.\n",
    "Output: The program should be able to show the data needed. \n",
    "\n",
    "**Function Name - Data Analysis**\n",
    "Description: Obtaining raw data, and converting it into information that is useful and understandable.\n",
    "Input: Users will input a command, and the program should show whatever information they requested, such as certain values.\n",
    "Output: Program should show the requested information to user.\n",
    "\n",
    "**Function Name - Data Visualisation**\n",
    "Description: Making information into a visual form, for a more easy read, and access.\n",
    "Input: User will type  a specific command for info to be visualised.\n",
    "Output: Program should show user the info in any visual form, with the main ones potentially being tables, bar graphs and line graphs\n",
    "\n",
    "**Function Name - Data Reporting**\n",
    "Description: The program shold make reports about the dataset and different ways for the user to the save the data. \n",
    "Input: User should be able to choove format and other specifics regarding the way the info will be saved\n",
    "Output:Program will produce report in that specific format.\n",
    "\n",
    "\n",
    "\n",
    "\n",
    "\n",
    "\n",
    "\n"
   ]
  },
  {
   "attachments": {},
   "cell_type": "markdown",
   "metadata": {},
   "source": [
    "# *USE CASES*\n",
    "\n",
    "**ACTOR:** USER\n",
    "\n",
    "**GOAL:** To be able to load the dataset visually for the user\n",
    "\n",
    "**PRECONDITIONS:** The user should have a finalised dataset?\n",
    "\n",
    "**MAIN FLOW:** \n",
    "1. User has dataframe for analysis\n",
    "2. User puts in the .csv file\n",
    "3. System should generate the info\n",
    "4. User should then save the info and send to a certain file location\n",
    "\n",
    "**POSTCONDITIONS:** Info sis saved and shown in the file."
   ]
  },
  {
   "attachments": {},
   "cell_type": "markdown",
   "metadata": {},
   "source": [
    "# *Researching and Planning*\n",
    "\n",
    "**PURPOSE:** The data's purpose is to be able to tell the user about the popularity of game genres, and the total amount of sales, which will be used to find out if issues such as inflation hit game prices, or it can also be used to find what were the most popular games, in certain times with the dates, using the column that has data on game ratings.\n",
    "\n",
    "**MISSING DATA:** It seems necessary to carry out the analysis due to some missing areas in popularity of certain games and pricing.\n",
    "\n",
    "**STAKEHOLDERS:** Economists, and the general public would be able to benefit from this data analysis, being able to see if game prices have been going up, and if they should change their decisions on spending based off of that, or they could use the data to find if inflation had affected game pricing as well. Since the amount of sales in NA, etc are shown, economists would also be able to find which parts of thw world had more sales.\n",
    "\n",
    "**USE:** To help economists and the general public understand the pricing of games. "
   ]
  },
  {
   "attachments": {},
   "cell_type": "markdown",
   "metadata": {},
   "source": [
    "# *Privacy and Security*\n",
    "\n",
    "**Data Privacy of Source:** The source's data that does need protecting may include sensitive data like what the game was developed with, developers names and the methods it was made with. The source's responsibility with the data that they have is that no personal information is made publicly available, anything that may harm the participants privacy. They also have to do so in compliance to any privacy laws.\n",
    "\n",
    "**Application Data Privacy:** My responsibilities of handling such data include filtering out any personal information that may be present. The dataset should be identifiable, seeing how it is publicly available on Kaggle. If I were to push this dataset out to general public, the responsibilites I would have will not change, whilst also filtering out any personal information that may have been placed in unknowingly to the participant or without consent.\n",
    "\n",
    "**Cyber Security:** Features that an application should have are logins, systems like two factor authentication, to keep both user privacy and participating user's privacy safe, to make sure there aren't any data leaks. Secure places to store data should also be made, so that any form of cloud storage doesn't get compromised either. \n",
    "\n",
    "***Definitions***\n",
    "\n",
    "**User Authentication:** A process where an individual confirms their identity to a system or login, to access services.\n",
    "\n",
    "**Password Hashing:** Turns passwords into strings of letters or numbers, that are meant to be hard to revert back, so that if the system is ever compromised, it will be much harder for cybercriminals to get your info.\n",
    "\n",
    "**Enryption:** Ecnryption is when information is converted to a serperate code or meaning to hide the original, to keep information safe, and hard to solve."
   ]
  },
  {
   "attachments": {},
   "cell_type": "markdown",
   "metadata": {},
   "source": [
    "# *Data Dictionary*\n",
    "\n",
    "|Field|Datatype|Format for Display|Description|Example|Validation|\n",
    "|-----|--------|------------------|-----------|-------|----------|\n",
    "|Title|Object|X...X|Name of the game|Call of Duty: Black Ops II|Can be any amount of characters, but doesn't include numbers|\n",
    "|Genre|Object|X...X|Action|Any amount of characters, with no numbers|Has to be one of the few genre's picked out.|\n",
    "|Critic|float64|X/10|Reviews of Game|7/10|Must be a number within the 0-10 range, or else it won't work.|\n",
    "|Date|datetime64|YYYY-MM-DD|Date at which the game was released.|2009/8/23|Must be in format of YYYY-MM-DD (Won't work otherwise)|\n",
    "|Total Sales|float64|X...X|The amount of sales made|7,000,000|Must be in numbers with comma's to mark each interval, so it won't be hard to read.|"
   ]
  },
  {
   "cell_type": "markdown",
   "metadata": {},
   "source": [
    "# *Evaluation.*\n",
    "\n",
    "**Calculations:** Used matplotlib to pull information from the DF to show it in a graph.\n",
    "\n",
    "**Accuracy:** The graph should be correct, since it was pulled directly from the data and information that was on the dataframe. (Unless there was a problem with my code and the way that I formatted.)\n",
    "\n",
    "**Conclusions:** From the data that has been visualised, questions such as the popularity of certain games, or genres should be presented to the viewer. This could be used by the general public or reviewers, to take note of which games sold the most, the most sales and what types of genres might appeal the most. This could also help the viewer mak a financial decision of buying a game or not."
   ]
  },
  {
   "cell_type": "markdown",
   "metadata": {},
   "source": [
    "# *Data Analysis Program*\n",
    "\n",
    "**FUNCTIONAL:** The program is currently having problems with reading the csv file, and might have to be resolved on the final day. Other parts of the code have been working, such as the UI and the selections. Other parts are specifically the codes that have been put in the make the graphs become visualised with matplotlib, the UI, and the data cleaning part that filtered out the unnecessary parts of the .csv file. The UI also has functioning parts, with the if statements being used to guide the user. The program doesnt need to have any error solving issues, since it is nearly all hard coded.\n",
    "\n",
    "**NON-FUNCTIONAL:** Program has simple way of working, with the user only having to use numbers to have the code make a result. PRogram should also have a consistency, since all it uses is the dataframe to produce results."
   ]
  },
  {
   "cell_type": "code",
   "execution_count": null,
   "metadata": {},
   "outputs": [],
   "source": [
    "import matplotlib.pyplot as plt\n",
    "import pandas as pd\n",
    "\n",
    "gamedf2 = pd.read_csv('/ethanslaptopd/documents/vgchartz-2024.csv',\n",
    "                   header=None,\n",
    "                   names=['Title', 'Genre', 'Critic', 'Date', 'Total Sales'])\n",
    "\n",
    "x = 'genre'\n",
    "y = 'critic_score'\n",
    "colour='blue',\n",
    "alpha=0.3,\n",
    "title='Genre popularity',\n",
    "plt.show()"
   ]
  },
  {
   "cell_type": "markdown",
   "metadata": {},
   "source": []
  }
 ],
 "metadata": {
  "kernelspec": {
   "display_name": ".venv",
   "language": "python",
   "name": "python3"
  },
  "language_info": {
   "codemirror_mode": {
    "name": "ipython",
    "version": 3
   },
   "file_extension": ".py",
   "mimetype": "text/x-python",
   "name": "python",
   "nbconvert_exporter": "python",
   "pygments_lexer": "ipython3",
   "version": "3.9.6"
  },
  "orig_nbformat": 4
 },
 "nbformat": 4,
 "nbformat_minor": 2
}
