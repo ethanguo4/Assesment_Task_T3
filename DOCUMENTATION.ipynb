{
 "cells": [
  {
   "attachments": {},
   "cell_type": "markdown",
   "metadata": {},
   "source": [
    "# *Identifying and Defining*\n",
    "**DATA**: The dataset that I have found is one of how many sales games in general have made, having columns of what genre the game is, when it released and how much copies it sold for. \n",
    "\n",
    "**GOAL**: The goal is to be able to pinpoint the most popular games in certain genre's, and possibly the sales that it made. \n",
    "\n",
    "**SOURCE**: The source of dataset is https://www.kaggle.com/datasets/asaniczka/video-game-sales-2024. \n",
    "\n",
    "**ACCESS**: This dataset is publically available on kaggle.com, and is free to download.\n",
    "\n",
    "**ACCESS METHOD**: .csv\n"
   ]
  },
  {
   "attachments": {},
   "cell_type": "markdown",
   "metadata": {},
   "source": [
    "# *Functional Requirements*\n",
    "\n",
    "Data Loading: Consider aspects such as ability to load certain file types and handling errors in file loading (e.g. incorrect format, missing files).\n",
    "\n",
    "Data Cleaning: Does the system need to handle missing values or allow for filtering, sorting and grouping of data?\n",
    "\n",
    "Data Analysis: What kind of statistical analysis does the system need to allow for (e.g. mean, median, mode)?\n",
    "\n",
    "Data Visualisation: How will the data need to be visualised (e.g. Pandas dataframes / Matplotlib chart types)?\n",
    "\n",
    "Data Reporting: What output should the system include, and do we need to store the final dataset somewhere (e.g. .csv or .txt file)?\n",
    "\n",
    "\n",
    "Function Name (e.g. Data Loading)\n",
    "Description: Describe what the program needs to do.\n",
    "Input: Describe what the user will input for this to happen.\n",
    "Output: Describe what the program will output based on the user input.\n",
    "\n"
   ]
  }
 ],
 "metadata": {
  "language_info": {
   "name": "python"
  },
  "orig_nbformat": 4
 },
 "nbformat": 4,
 "nbformat_minor": 2
}
