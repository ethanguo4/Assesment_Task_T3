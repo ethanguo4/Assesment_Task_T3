{
 "cells": [
  {
   "attachments": {},
   "cell_type": "markdown",
   "metadata": {},
   "source": [
    "# *Identifying and Defining*\n",
    "**DATA**: The dataset that I have found is one of how many sales games in general have made, having columns of what genre the game is, when it released and how much copies it sold for. \n",
    "\n",
    "**GOAL**: The goal is to be able to pinpoint the most popular games in certain genre's, and possibly the sales that it made. \n",
    "\n",
    "**SOURCE**: The source of dataset is https://www.kaggle.com/datasets/asaniczka/video-game-sales-2024. \n",
    "\n",
    "**ACCESS**: This dataset is publically available on kaggle.com, and is free to download.\n",
    "\n",
    "**ACCESS METHOD**: .csv\n"
   ]
  },
  {
   "attachments": {},
   "cell_type": "markdown",
   "metadata": {},
   "source": [
    "# *Functional Requirements*\n",
    "\n",
    "*Data Loading*: Consider aspects such as ability to load certain file types and handling errors in file loading (e.g. incorrect format, missing files).\n",
    "\n",
    "*Data Cleaning*: Does the system need to handle missing values or allow for filtering, sorting and grouping of data?\n",
    "\n",
    "*Data Analysis*: What kind of statistical analysis does the system need to allow for (e.g. mean, median, mode)?\n",
    "\n",
    "*Data Visualisation*: How will the data need to be visualised (e.g. Pandas dataframes / Matplotlib chart types)?\n",
    "\n",
    "*Data Reporting*: What output should the system include, and do we need to store the final dataset somewhere (e.g. .csv or .txt file)?\n",
    "\n",
    "\n",
    "**Function Name** - Data Loading\n",
    "Description: The program should be able load differnet types of files, and have them securely stored.\n",
    "Input: User will type in a specific command, or number or certain data to show.\n",
    "Output: The program should show a visualised version of data.\n",
    "\n",
    "**Function Name** - Data Clenaing\n",
    "Description: Process of fixing, and removing irrelevant, incorrect or corrupted data within a dataset.\n",
    "Input: User can use specific commands to filter out data to get the parts that they want.\n",
    "Output: The program should be able to show the data needed. \n",
    "\n",
    "**Function Name** - Data Analysis\n",
    "Description: Obtaining raw data, and converting it into information that is useful and understandable.\n",
    "Input: Users will input a command, and the program should show whatever information they requested, such as certain values.\n",
    "Output: Program should show the requested information to user.\n",
    "\n",
    "**Function Name** - Data Visualisation\n",
    "Description: Making information into a visual form, for a more easy read, and access.\n",
    "Input: User will type  a specific command for info to be visualised.\n",
    "Output: Program should show user the info in any visual form, with the main ones potentially being tables, bar graphs and line graphs\n",
    "\n",
    "**Function Name** - Data Reporting\n",
    "Description: The program shold make reports about the dataset and different ways for the user to the save the data. \n",
    "Input: User should be able to choove format and other specifics regarding the way the info will be saved\n",
    "Output:Program will produce report in that specific format.\n",
    "\n",
    "\n",
    "\n",
    "\n",
    "\n",
    "\n",
    "\n"
   ]
  },
  {
   "attachments": {},
   "cell_type": "markdown",
   "metadata": {},
   "source": [
    "# *USE CASES*\n",
    "\n",
    "**ACTOR:** USER\n",
    "\n",
    "**GOAL:** To be able to load the dataset visually for the user\n",
    "\n",
    "**PRECONDITIONS:** The user should have to type out basic commands for the data to be visually shown.\n",
    "\n",
    "**MAIN FLOW:** \n",
    "1. User opens the VS code, which should display the data for them.\n",
    "2. "
   ]
  },
  {
   "attachments": {},
   "cell_type": "markdown",
   "metadata": {},
   "source": [
    "# *Researching and Planning*\n",
    "\n",
    "**PURPOSE:** The data's purpose is to be able to tell the user about pricing of games, and the total amount of sales, which will be used to find out if issues such as inflation hit game prices, or it can also be used to find what were the most popular games, using the column that has data on game ratings.\n",
    "\n",
    "**MISSING DATA:** It seems necessary to carry out the analysis due to some missing areas in popularity of certain games and pricing.\n",
    "\n",
    "**STAKEHOLDERS:** Economists, and the general public would be able to benefit from this data analysis, being able to see if game prices have been going up, and if they should change their decisions on spending based off of that, or they could use the data to find if inflation had affected game pricing as well. Since the amount of sales in NA, etc are shown, economists would also be able to find which parts of thw world had more sales.\n",
    "\n",
    "**USE:** To help economists and the general public understand the pricing of games."
   ]
  },
  {
   "attachments": {},
   "cell_type": "markdown",
   "metadata": {},
   "source": [
    "# *Privacy and Security*"
   ]
  }
 ],
 "metadata": {
  "language_info": {
   "name": "python"
  },
  "orig_nbformat": 4
 },
 "nbformat": 4,
 "nbformat_minor": 2
}
